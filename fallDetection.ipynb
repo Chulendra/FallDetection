{
 "cells": [
  {
   "cell_type": "code",
   "execution_count": 65,
   "id": "0f43fedf",
   "metadata": {},
   "outputs": [],
   "source": [
    "import numpy as np\n",
    "import pandas as pd\n",
    "import os\n",
    "\n",
    "from sklearn.model_selection import train_test_split\n",
    "from sklearn.svm import SVC\n",
    "from sklearn.metrics import accuracy_score\n",
    "import matplotlib.pyplot as plt"
   ]
  },
  {
   "cell_type": "code",
   "execution_count": 13,
   "id": "1b8e7bd1",
   "metadata": {
    "scrolled": true
   },
   "outputs": [
    {
     "data": {
      "text/html": [
       "<div>\n",
       "<style scoped>\n",
       "    .dataframe tbody tr th:only-of-type {\n",
       "        vertical-align: middle;\n",
       "    }\n",
       "\n",
       "    .dataframe tbody tr th {\n",
       "        vertical-align: top;\n",
       "    }\n",
       "\n",
       "    .dataframe thead th {\n",
       "        text-align: right;\n",
       "    }\n",
       "</style>\n",
       "<table border=\"1\" class=\"dataframe\">\n",
       "  <thead>\n",
       "    <tr style=\"text-align: right;\">\n",
       "      <th></th>\n",
       "      <th>Date</th>\n",
       "      <th>Timestamp</th>\n",
       "      <th>DeviceOrientation</th>\n",
       "      <th>AccelerationX</th>\n",
       "      <th>AccelerationY</th>\n",
       "      <th>AccelerationZ</th>\n",
       "      <th>Label</th>\n",
       "    </tr>\n",
       "  </thead>\n",
       "  <tbody>\n",
       "    <tr>\n",
       "      <th>0</th>\n",
       "      <td>2020-07-14 14:55:48</td>\n",
       "      <td>1.594764e+09</td>\n",
       "      <td>portrait</td>\n",
       "      <td>-0.425507</td>\n",
       "      <td>0.624695</td>\n",
       "      <td>-0.630051</td>\n",
       "      <td>NaN</td>\n",
       "    </tr>\n",
       "    <tr>\n",
       "      <th>1</th>\n",
       "      <td>2020-07-14 14:55:48</td>\n",
       "      <td>1.594764e+09</td>\n",
       "      <td>portrait</td>\n",
       "      <td>-0.424881</td>\n",
       "      <td>0.626556</td>\n",
       "      <td>-0.579483</td>\n",
       "      <td>NaN</td>\n",
       "    </tr>\n",
       "    <tr>\n",
       "      <th>2</th>\n",
       "      <td>2020-07-14 14:55:48</td>\n",
       "      <td>1.594764e+09</td>\n",
       "      <td>portrait</td>\n",
       "      <td>-0.429794</td>\n",
       "      <td>0.634567</td>\n",
       "      <td>-0.610840</td>\n",
       "      <td>NaN</td>\n",
       "    </tr>\n",
       "    <tr>\n",
       "      <th>3</th>\n",
       "      <td>2020-07-14 14:55:48</td>\n",
       "      <td>1.594764e+09</td>\n",
       "      <td>portrait</td>\n",
       "      <td>-0.430939</td>\n",
       "      <td>0.653580</td>\n",
       "      <td>-0.642944</td>\n",
       "      <td>NaN</td>\n",
       "    </tr>\n",
       "    <tr>\n",
       "      <th>4</th>\n",
       "      <td>2020-07-14 14:55:48</td>\n",
       "      <td>1.594764e+09</td>\n",
       "      <td>portrait</td>\n",
       "      <td>-0.429077</td>\n",
       "      <td>0.630432</td>\n",
       "      <td>-0.622650</td>\n",
       "      <td>NaN</td>\n",
       "    </tr>\n",
       "  </tbody>\n",
       "</table>\n",
       "</div>"
      ],
      "text/plain": [
       "                  Date     Timestamp DeviceOrientation  AccelerationX  \\\n",
       "0  2020-07-14 14:55:48  1.594764e+09          portrait      -0.425507   \n",
       "1  2020-07-14 14:55:48  1.594764e+09          portrait      -0.424881   \n",
       "2  2020-07-14 14:55:48  1.594764e+09          portrait      -0.429794   \n",
       "3  2020-07-14 14:55:48  1.594764e+09          portrait      -0.430939   \n",
       "4  2020-07-14 14:55:48  1.594764e+09          portrait      -0.429077   \n",
       "\n",
       "   AccelerationY  AccelerationZ  Label  \n",
       "0       0.624695      -0.630051    NaN  \n",
       "1       0.626556      -0.579483    NaN  \n",
       "2       0.634567      -0.610840    NaN  \n",
       "3       0.653580      -0.642944    NaN  \n",
       "4       0.630432      -0.622650    NaN  "
      ]
     },
     "execution_count": 13,
     "metadata": {},
     "output_type": "execute_result"
    }
   ],
   "source": [
    "sample = pd.read_csv(\"dataset/sit/downSit/downSit1.csv\", sep = \";\")\n",
    "sample.head()"
   ]
  },
  {
   "cell_type": "code",
   "execution_count": 25,
   "id": "a4532641",
   "metadata": {},
   "outputs": [
    {
     "data": {
      "text/plain": [
       "numpy.ndarray"
      ]
     },
     "execution_count": 25,
     "metadata": {},
     "output_type": "execute_result"
    }
   ],
   "source": [
    "sample[\"DeviceOrientation\"].unique()"
   ]
  },
  {
   "cell_type": "code",
   "execution_count": 35,
   "id": "0ecd19e2",
   "metadata": {},
   "outputs": [],
   "source": [
    "x = list(sample[\"DeviceOrientation\"].unique())"
   ]
  },
  {
   "cell_type": "code",
   "execution_count": 36,
   "id": "2a877629",
   "metadata": {},
   "outputs": [
    {
     "data": {
      "text/plain": [
       "{'faceUp', 'portrait', 'portraitUpsideDown'}"
      ]
     },
     "execution_count": 36,
     "metadata": {},
     "output_type": "execute_result"
    }
   ],
   "source": [
    "DeviceOrientations = set()\n",
    "DeviceOrientations.update(x)\n",
    "DeviceOrientations"
   ]
  },
  {
   "cell_type": "code",
   "execution_count": 44,
   "id": "8f7aa15a",
   "metadata": {},
   "outputs": [
    {
     "data": {
      "text/plain": [
       "array(['portrait', 'portraitUpsideDown', 'faceUp'], dtype=object)"
      ]
     },
     "execution_count": 44,
     "metadata": {},
     "output_type": "execute_result"
    }
   ],
   "source": [
    "sample[\"DeviceOrientation\"].unique()"
   ]
  },
  {
   "cell_type": "code",
   "execution_count": 47,
   "id": "bb398580",
   "metadata": {},
   "outputs": [
    {
     "data": {
      "text/plain": [
       "array([['2020-07-14 14:55:48', 1594763748.773793, 'portrait', ...,\n",
       "        0.62469482421875, -0.6300506591796875, nan],\n",
       "       ['2020-07-14 14:55:48', 1594763748.778411, 'portrait', ...,\n",
       "        0.626556396484375, -0.5794830322265625, nan],\n",
       "       ['2020-07-14 14:55:48', 1594763748.782727, 'portrait', ...,\n",
       "        0.6345672607421875, -0.61083984375, nan],\n",
       "       ...,\n",
       "       ['2020-07-14 14:55:48', 1594763789.640328, 'faceUp', ...,\n",
       "        -0.28643798828125, -0.9506072998046876, nan],\n",
       "       ['2020-07-14 14:55:48', 1594763789.679858, 'faceUp', ...,\n",
       "        -0.261444091796875, -0.9839630126953124, nan],\n",
       "       ['2020-07-14 14:55:48', 1594763789.719836, 'faceUp', ...,\n",
       "        -0.2554779052734375, -1.0263824462890625, nan]], dtype=object)"
      ]
     },
     "execution_count": 47,
     "metadata": {},
     "output_type": "execute_result"
    }
   ],
   "source": [
    "sample.values"
   ]
  },
  {
   "cell_type": "code",
   "execution_count": 55,
   "id": "b6352dac",
   "metadata": {},
   "outputs": [
    {
     "data": {
      "text/html": [
       "<div>\n",
       "<style scoped>\n",
       "    .dataframe tbody tr th:only-of-type {\n",
       "        vertical-align: middle;\n",
       "    }\n",
       "\n",
       "    .dataframe tbody tr th {\n",
       "        vertical-align: top;\n",
       "    }\n",
       "\n",
       "    .dataframe thead th {\n",
       "        text-align: right;\n",
       "    }\n",
       "</style>\n",
       "<table border=\"1\" class=\"dataframe\">\n",
       "  <thead>\n",
       "    <tr style=\"text-align: right;\">\n",
       "      <th></th>\n",
       "      <th>DeviceOrientation</th>\n",
       "      <th>AccelerationX</th>\n",
       "      <th>AccelerationY</th>\n",
       "      <th>AccelerationZ</th>\n",
       "    </tr>\n",
       "  </thead>\n",
       "  <tbody>\n",
       "    <tr>\n",
       "      <th>0</th>\n",
       "      <td>4</td>\n",
       "      <td>-0.425507</td>\n",
       "      <td>0.624695</td>\n",
       "      <td>-0.630051</td>\n",
       "    </tr>\n",
       "    <tr>\n",
       "      <th>1</th>\n",
       "      <td>4</td>\n",
       "      <td>-0.424881</td>\n",
       "      <td>0.626556</td>\n",
       "      <td>-0.579483</td>\n",
       "    </tr>\n",
       "    <tr>\n",
       "      <th>2</th>\n",
       "      <td>4</td>\n",
       "      <td>-0.429794</td>\n",
       "      <td>0.634567</td>\n",
       "      <td>-0.610840</td>\n",
       "    </tr>\n",
       "    <tr>\n",
       "      <th>3</th>\n",
       "      <td>4</td>\n",
       "      <td>-0.430939</td>\n",
       "      <td>0.653580</td>\n",
       "      <td>-0.642944</td>\n",
       "    </tr>\n",
       "    <tr>\n",
       "      <th>4</th>\n",
       "      <td>4</td>\n",
       "      <td>-0.429077</td>\n",
       "      <td>0.630432</td>\n",
       "      <td>-0.622650</td>\n",
       "    </tr>\n",
       "  </tbody>\n",
       "</table>\n",
       "</div>"
      ],
      "text/plain": [
       "   DeviceOrientation  AccelerationX  AccelerationY  AccelerationZ\n",
       "0                  4      -0.425507       0.624695      -0.630051\n",
       "1                  4      -0.424881       0.626556      -0.579483\n",
       "2                  4      -0.429794       0.634567      -0.610840\n",
       "3                  4      -0.430939       0.653580      -0.642944\n",
       "4                  4      -0.429077       0.630432      -0.622650"
      ]
     },
     "execution_count": 55,
     "metadata": {},
     "output_type": "execute_result"
    }
   ],
   "source": [
    "X = sample.drop(['Date', 'Timestamp', 'Label'], axis=1)\n",
    "X = X.replace(encoder)\n",
    "X.head()"
   ]
  },
  {
   "cell_type": "code",
   "execution_count": 56,
   "id": "45857a7e",
   "metadata": {},
   "outputs": [],
   "source": [
    "X[\"Class\"] = 0"
   ]
  },
  {
   "cell_type": "code",
   "execution_count": 57,
   "id": "e0c1b3e3",
   "metadata": {},
   "outputs": [
    {
     "data": {
      "text/html": [
       "<div>\n",
       "<style scoped>\n",
       "    .dataframe tbody tr th:only-of-type {\n",
       "        vertical-align: middle;\n",
       "    }\n",
       "\n",
       "    .dataframe tbody tr th {\n",
       "        vertical-align: top;\n",
       "    }\n",
       "\n",
       "    .dataframe thead th {\n",
       "        text-align: right;\n",
       "    }\n",
       "</style>\n",
       "<table border=\"1\" class=\"dataframe\">\n",
       "  <thead>\n",
       "    <tr style=\"text-align: right;\">\n",
       "      <th></th>\n",
       "      <th>DeviceOrientation</th>\n",
       "      <th>AccelerationX</th>\n",
       "      <th>AccelerationY</th>\n",
       "      <th>AccelerationZ</th>\n",
       "      <th>Class</th>\n",
       "    </tr>\n",
       "  </thead>\n",
       "  <tbody>\n",
       "    <tr>\n",
       "      <th>0</th>\n",
       "      <td>4</td>\n",
       "      <td>-0.425507</td>\n",
       "      <td>0.624695</td>\n",
       "      <td>-0.630051</td>\n",
       "      <td>0</td>\n",
       "    </tr>\n",
       "    <tr>\n",
       "      <th>1</th>\n",
       "      <td>4</td>\n",
       "      <td>-0.424881</td>\n",
       "      <td>0.626556</td>\n",
       "      <td>-0.579483</td>\n",
       "      <td>0</td>\n",
       "    </tr>\n",
       "    <tr>\n",
       "      <th>2</th>\n",
       "      <td>4</td>\n",
       "      <td>-0.429794</td>\n",
       "      <td>0.634567</td>\n",
       "      <td>-0.610840</td>\n",
       "      <td>0</td>\n",
       "    </tr>\n",
       "    <tr>\n",
       "      <th>3</th>\n",
       "      <td>4</td>\n",
       "      <td>-0.430939</td>\n",
       "      <td>0.653580</td>\n",
       "      <td>-0.642944</td>\n",
       "      <td>0</td>\n",
       "    </tr>\n",
       "    <tr>\n",
       "      <th>4</th>\n",
       "      <td>4</td>\n",
       "      <td>-0.429077</td>\n",
       "      <td>0.630432</td>\n",
       "      <td>-0.622650</td>\n",
       "      <td>0</td>\n",
       "    </tr>\n",
       "  </tbody>\n",
       "</table>\n",
       "</div>"
      ],
      "text/plain": [
       "   DeviceOrientation  AccelerationX  AccelerationY  AccelerationZ  Class\n",
       "0                  4      -0.425507       0.624695      -0.630051      0\n",
       "1                  4      -0.424881       0.626556      -0.579483      0\n",
       "2                  4      -0.429794       0.634567      -0.610840      0\n",
       "3                  4      -0.430939       0.653580      -0.642944      0\n",
       "4                  4      -0.429077       0.630432      -0.622650      0"
      ]
     },
     "execution_count": 57,
     "metadata": {},
     "output_type": "execute_result"
    }
   ],
   "source": [
    "X.head()"
   ]
  },
  {
   "cell_type": "code",
   "execution_count": null,
   "id": "5a89bedb",
   "metadata": {},
   "outputs": [],
   "source": []
  },
  {
   "cell_type": "code",
   "execution_count": null,
   "id": "24d95d06",
   "metadata": {},
   "outputs": [],
   "source": []
  },
  {
   "cell_type": "code",
   "execution_count": 14,
   "id": "50e906c5",
   "metadata": {},
   "outputs": [],
   "source": [
    "cols = list(sample.columns)"
   ]
  },
  {
   "cell_type": "code",
   "execution_count": 12,
   "id": "6ae8b4ae",
   "metadata": {},
   "outputs": [
    {
     "data": {
      "text/plain": [
       "['fall', 'sit']"
      ]
     },
     "execution_count": 12,
     "metadata": {},
     "output_type": "execute_result"
    }
   ],
   "source": [
    "classes = os.listdir(\"dataset\")\n",
    "classes"
   ]
  },
  {
   "cell_type": "code",
   "execution_count": 20,
   "id": "f32898f2",
   "metadata": {},
   "outputs": [
    {
     "data": {
      "text/plain": [
       "{'fall': 108, 'sit': 95}"
      ]
     },
     "execution_count": 20,
     "metadata": {},
     "output_type": "execute_result"
    }
   ],
   "source": [
    "# class distribution\n",
    "\n",
    "cls_count = {classes[0]: 0, classes[1]: 0}\n",
    "cls_count\n",
    "\n",
    "for cls in classes:\n",
    "    sub_classes = os.listdir(f\"dataset/{cls}\")\n",
    "    for sub_cls in sub_classes:\n",
    "        files = os.listdir(f\"dataset/{cls}/{sub_cls}\")\n",
    "        cls_count[cls] += len(files)\n",
    "\n",
    "cls_count"
   ]
  },
  {
   "cell_type": "code",
   "execution_count": 22,
   "id": "782ad2fd",
   "metadata": {},
   "outputs": [],
   "source": [
    "# checking number of attributes\n",
    "for cls in classes:\n",
    "    sub_classes = os.listdir(f\"dataset/{cls}\")\n",
    "    for sub_cls in sub_classes:\n",
    "        paths = os.listdir(f\"dataset/{cls}/{sub_cls}\")\n",
    "        for path in paths:\n",
    "            df = pd.read_csv(f\"dataset/{cls}/{sub_cls}/{path}\", sep = \";\")\n",
    "            if not cols == list(df.columns):\n",
    "                print(\"Detected\")"
   ]
  },
  {
   "cell_type": "code",
   "execution_count": 43,
   "id": "b6181b53",
   "metadata": {},
   "outputs": [
    {
     "data": {
      "text/plain": [
       "['faceDown',\n",
       " 'faceUp',\n",
       " 'landscapeLeft',\n",
       " 'landscapeRight',\n",
       " 'portrait',\n",
       " 'portraitUpsideDown']"
      ]
     },
     "execution_count": 43,
     "metadata": {},
     "output_type": "execute_result"
    }
   ],
   "source": [
    "# checking number of DeviceOrientation types\n",
    "DeviceOrientations = set()\n",
    "\n",
    "for cls in classes:\n",
    "    sub_classes = os.listdir(f\"dataset/{cls}\")\n",
    "    for sub_cls in sub_classes:\n",
    "        paths = os.listdir(f\"dataset/{cls}/{sub_cls}\")\n",
    "        for path in paths:\n",
    "            df = pd.read_csv(f\"dataset/{cls}/{sub_cls}/{path}\", sep = \";\")\n",
    "            DeviceOrientations.update(list(df[\"DeviceOrientation\"].unique()))\n",
    "  \n",
    "DeviceOrientations = sorted(list(DeviceOrientations))\n",
    "DeviceOrientations"
   ]
  },
  {
   "cell_type": "code",
   "execution_count": 54,
   "id": "0da0a394",
   "metadata": {},
   "outputs": [
    {
     "data": {
      "text/plain": [
       "{'DeviceOrientation': {'faceDown': 0,\n",
       "  'faceUp': 1,\n",
       "  'landscapeLeft': 2,\n",
       "  'landscapeRight': 3,\n",
       "  'portrait': 4,\n",
       "  'portraitUpsideDown': 5}}"
      ]
     },
     "execution_count": 54,
     "metadata": {},
     "output_type": "execute_result"
    }
   ],
   "source": [
    "encoder = {\"DeviceOrientation\": {}}\n",
    "\n",
    "for i, orientation in enumerate(DeviceOrientations):\n",
    "    encoder[\"DeviceOrientation\"][orientation] = i\n",
    "\n",
    "encoder"
   ]
  },
  {
   "cell_type": "code",
   "execution_count": 69,
   "id": "f02fb29f",
   "metadata": {},
   "outputs": [],
   "source": [
    "# appending data frames and lebel encoding\n",
    "\n",
    "X = []\n",
    "y = []\n",
    "\n",
    "for i, cls in enumerate(classes):\n",
    "    sub_classes = os.listdir(f\"dataset/{cls}\")\n",
    "    for sub_cls in sub_classes:\n",
    "        paths = os.listdir(f\"dataset/{cls}/{sub_cls}\")\n",
    "        for path in paths:\n",
    "            df = pd.read_csv(f\"dataset/{cls}/{sub_cls}/{path}\", sep = \";\")\n",
    "            df = df.drop(['Date', 'Timestamp', 'Label'], axis=1)\n",
    "            df = df.replace(encoder)\n",
    "            X.append(df)\n",
    "            y += [i] * len(df)\n",
    "\n",
    "X = pd.concat(X)"
   ]
  },
  {
   "cell_type": "code",
   "execution_count": 70,
   "id": "63c81aa5",
   "metadata": {},
   "outputs": [
    {
     "data": {
      "text/plain": [
       "202599"
      ]
     },
     "execution_count": 70,
     "metadata": {},
     "output_type": "execute_result"
    }
   ],
   "source": [
    "X = X.values\n",
    "len(X)"
   ]
  },
  {
   "cell_type": "code",
   "execution_count": 71,
   "id": "516b867e",
   "metadata": {},
   "outputs": [
    {
     "data": {
      "text/plain": [
       "202599"
      ]
     },
     "execution_count": 71,
     "metadata": {},
     "output_type": "execute_result"
    }
   ],
   "source": [
    "len(y)"
   ]
  },
  {
   "cell_type": "code",
   "execution_count": 72,
   "id": "d90a0cfc",
   "metadata": {},
   "outputs": [],
   "source": [
    "# train test split\n",
    "X_train, X_test, y_train, y_test = train_test_split(X, y, test_size = 0.1)"
   ]
  },
  {
   "cell_type": "code",
   "execution_count": 73,
   "id": "6bca1b0b",
   "metadata": {},
   "outputs": [
    {
     "data": {
      "text/plain": [
       "SVC()"
      ]
     },
     "execution_count": 73,
     "metadata": {},
     "output_type": "execute_result"
    }
   ],
   "source": [
    "SVM = SVC()\n",
    "SVM.fit(X_train,y_train)"
   ]
  },
  {
   "cell_type": "code",
   "execution_count": 74,
   "id": "6e14e3a9",
   "metadata": {},
   "outputs": [
    {
     "data": {
      "text/plain": [
       "0.6892398815399803"
      ]
     },
     "execution_count": 74,
     "metadata": {},
     "output_type": "execute_result"
    }
   ],
   "source": [
    "y_pred = SVM.predict(X_test)\n",
    " \n",
    "# compute accuracy of the model\n",
    "SVM.score(X_test, y_test)"
   ]
  },
  {
   "cell_type": "code",
   "execution_count": 75,
   "id": "dc875243",
   "metadata": {},
   "outputs": [
    {
     "data": {
      "text/plain": [
       "array([[7352, 3644],\n",
       "       [2652, 6612]], dtype=int64)"
      ]
     },
     "execution_count": 75,
     "metadata": {},
     "output_type": "execute_result"
    }
   ],
   "source": [
    "from sklearn.metrics import confusion_matrix\n",
    " \n",
    "cm = confusion_matrix(y_test,y_pred)\n",
    "cm"
   ]
  },
  {
   "cell_type": "code",
   "execution_count": null,
   "id": "727ef988",
   "metadata": {},
   "outputs": [],
   "source": []
  }
 ],
 "metadata": {
  "kernelspec": {
   "display_name": "Python 3 (ipykernel)",
   "language": "python",
   "name": "python3"
  },
  "language_info": {
   "codemirror_mode": {
    "name": "ipython",
    "version": 3
   },
   "file_extension": ".py",
   "mimetype": "text/x-python",
   "name": "python",
   "nbconvert_exporter": "python",
   "pygments_lexer": "ipython3",
   "version": "3.9.13"
  }
 },
 "nbformat": 4,
 "nbformat_minor": 5
}
